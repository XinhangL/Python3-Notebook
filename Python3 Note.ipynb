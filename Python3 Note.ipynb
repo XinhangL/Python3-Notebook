{
 "cells": [
  {
   "cell_type": "markdown",
   "id": "9bf8c2b4",
   "metadata": {},
   "source": [
    "# LeetCode"
   ]
  },
  {
   "cell_type": "markdown",
   "id": "bba66f05",
   "metadata": {},
   "source": [
    "## Easy\n",
    "| 题号      | 标题                           |\n",
    "| ------- | ---------------------------- |\n",
    "| **1**   | Two Sum （哈希表入门）              |\n",
    "| **136** | Single Number（集合操作）          |\n",
    "| **169** | Majority Element（频率分析）       |\n",
    "| **217** | Contains Duplicate（去重）       |\n",
    "| **242** | Valid Anagram（字母频率统计）        |\n",
    "| **383** | Ransom Note（字符串拼凑）           |\n",
    "| **704** | Binary Search（基础二分，不难）       |\n",
    "| **997** | Find the Town Judge（类似分组计数题） |\n"
   ]
  },
  {
   "cell_type": "markdown",
   "id": "70c53c76",
   "metadata": {},
   "source": [
    "### 217. Contains Duplicate\n",
    "\n",
    "Given an integer array nums, return true if any value appears at least twice in the array, and return false if every element is distinct.\n",
    "\n"
   ]
  },
  {
   "cell_type": "code",
   "execution_count": 3,
   "id": "24dfb6e4",
   "metadata": {},
   "outputs": [],
   "source": [
    "class Solution(object):\n",
    "    def containsDuplicate(self, nums):\n",
    "        \"\"\"\n",
    "        :type nums: List[int]\n",
    "        :rtype: bool\n",
    "        \"\"\"\n",
    "        seen = set()\n",
    "        for num in nums:\n",
    "            if num in seen:\n",
    "                return True\n",
    "            seen.add(num)\n",
    "        return False"
   ]
  },
  {
   "cell_type": "markdown",
   "id": "c5656cc0",
   "metadata": {},
   "source": [
    "### 1. Two Sum\n",
    "Given an array of integers nums and an integer target, return indices of the two numbers such that they add up to target.\n",
    "\n",
    "You may assume that each input would have exactly one solution, and you may not use the same element twice.\n",
    "\n",
    "You can return the answer in any order."
   ]
  },
  {
   "cell_type": "code",
   "execution_count": null,
   "id": "0c691406",
   "metadata": {},
   "outputs": [],
   "source": [
    "class Solution:\n",
    "    def twoSum(self, nums: List[int], target: int) -> List[int]:\n",
    "        for i in range(len(nums)):\n",
    "            for j in range(i + 1, len(nums)):\n",
    "                if nums[j] == target - nums[i]:\n",
    "                    return [i, j]\n",
    "        return []"
   ]
  },
  {
   "cell_type": "markdown",
   "id": "80983ab2",
   "metadata": {},
   "source": [
    "### 169. Majority Element\n",
    "Given an array nums of size n, return the majority element.\n",
    "\n",
    "The majority element is the element that appears more than ⌊n / 2⌋ times. You may assume that the majority element always exists in the array."
   ]
  },
  {
   "cell_type": "code",
   "execution_count": null,
   "id": "09374110",
   "metadata": {},
   "outputs": [],
   "source": [
    "class Solution:\n",
    "    def majorityElement(self, nums: List[int]) -> int:\n",
    "        res = majority = 0 \n",
    "\n",
    "        for n in nums:\n",
    "            if majority == 0:\n",
    "                res = n\n",
    "            \n",
    "            majority += 1 if n == res else -1\n",
    "        \n",
    "        return res"
   ]
  },
  {
   "cell_type": "markdown",
   "id": "762bffd5",
   "metadata": {},
   "source": [
    "### 136. Single Number\n",
    "Given a non-empty array of integers nums, every element appears twice except for one. Find that single one.\n",
    "\n",
    "You must implement a solution with a linear runtime complexity and use only constant extra space."
   ]
  },
  {
   "cell_type": "code",
   "execution_count": null,
   "id": "6e9971ae",
   "metadata": {},
   "outputs": [],
   "source": [
    "class Solution:\n",
    "    def singleNumber(self, nums: List[int]) -> int:\n",
    "        notseen = []\n",
    "\n",
    "        for n in nums:\n",
    "            if n in notseen:\n",
    "                notseen.remove(n)\n",
    "            else:\n",
    "                notseen.append(n)\n",
    "\n",
    "        return notseen.pop()"
   ]
  },
  {
   "cell_type": "markdown",
   "id": "56dbf907",
   "metadata": {},
   "source": [
    "### 242. Valid Anagram\n",
    "Given two strings s and t, return true if t is an anagram of s, and false otherwise."
   ]
  },
  {
   "cell_type": "code",
   "execution_count": null,
   "id": "232c4882",
   "metadata": {},
   "outputs": [],
   "source": [
    "#sort(s.begin(), s.end()); sorts the characters in string s in ascending order. \n",
    "#This rearranges the characters in s so that they are in alphabetical order.\n",
    "\n",
    "class Solution:\n",
    "    def isAnagram(self, s: str, t: str) -> bool:\n",
    "        sorted_s = sorted(s)\n",
    "        sorted_t = sorted(t)\n",
    "        return sorted_s == sorted_t"
   ]
  },
  {
   "cell_type": "code",
   "execution_count": null,
   "id": "f881a94a",
   "metadata": {},
   "outputs": [],
   "source": [
    "# function in collections module called Counter which returns a dictionary of counts in each character.\n",
    "\n",
    "from collections import Counter\n",
    "\n",
    "class Solution:\n",
    "    def isAnagram(self, s: str, t: str) -> bool:\n",
    "        if len(s) != len(t):\n",
    "            return False\n",
    "\n",
    "        ss = Counter(s)\n",
    "        tt = Counter(t)\n",
    "\n",
    "        if ss == tt:\n",
    "            return True\n",
    "        return False"
   ]
  },
  {
   "cell_type": "markdown",
   "id": "3b6c5008",
   "metadata": {},
   "source": [
    "### 383. Ransom Note\n",
    "Given two strings ransomNote and magazine, return true if ransomNote can be constructed by using the letters from magazine and false otherwise.\n",
    "\n",
    "Each letter in magazine can only be used once in ransomNote."
   ]
  },
  {
   "cell_type": "code",
   "execution_count": null,
   "id": "72761867",
   "metadata": {},
   "outputs": [],
   "source": [
    "class Solution:\n",
    "    def canConstruct(self, ransomNote: str, magazine: str) -> bool:\n",
    "        \n",
    "        for i in ransomNote:\n",
    "            if i in magazine:\n",
    "                magazine = magazine.replace(i,\"\",1)\n",
    "            else: return False\n",
    "        \n",
    "        return True"
   ]
  },
  {
   "cell_type": "code",
   "execution_count": null,
   "id": "3d527104",
   "metadata": {},
   "outputs": [],
   "source": [
    "# function collections.Counter (faster)\n",
    "class Solution:\n",
    "    def canConstruct(self, ransomNote: str, magazine: str) -> bool:\n",
    "        st1, st2 = Counter(ransomNote), Counter(magazine)\n",
    "        if st1 & st2 == st1:\n",
    "            return True\n",
    "        return False   "
   ]
  },
  {
   "cell_type": "markdown",
   "id": "b0947bd7",
   "metadata": {},
   "source": [
    "### 704. Binary Search\n",
    "Given an array of integers nums which is sorted in ascending order, and an integer target, write a function to search target in nums. If target exists, then return its index. Otherwise, return -1.\n",
    "\n",
    "You must write an algorithm with O(log n) runtime complexity."
   ]
  },
  {
   "cell_type": "code",
   "execution_count": null,
   "id": "aed057e3",
   "metadata": {},
   "outputs": [],
   "source": [
    "class Solution:\n",
    "    def search(self, nums: List[int], target: int) -> int:\n",
    "        \n",
    "        left = 0\n",
    "        right = len(nums)-1\n",
    "        \n",
    "        while left<=right:\n",
    "            mid = (left+right)//2\n",
    "            if nums[mid]==target:\n",
    "                return mid\n",
    "            elif nums[mid]>target:\n",
    "                right = mid-1\n",
    "            else:\n",
    "                left = mid+1\n",
    "        \n",
    "        return -1"
   ]
  },
  {
   "cell_type": "markdown",
   "id": "42537924",
   "metadata": {},
   "source": [
    "### 997. Find the Town Judge\n",
    "In a town, there are n people labeled from 1 to n. There is a rumor that one of these people is secretly the town judge.\n",
    "\n",
    "If the town judge exists, then:\n",
    "\n",
    "The town judge trusts nobody.\n",
    "Everybody (except for the town judge) trusts the town judge.\n",
    "There is exactly one person that satisfies properties 1 and 2.\n",
    "You are given an array trust where trust[i] = [ai, bi] representing that the person labeled ai trusts the person labeled bi. If a trust relationship does not exist in trust array, then such a trust relationship does not exist.\n",
    "\n",
    "Return the label of the town judge if the town judge exists and can be identified, or return -1 otherwise."
   ]
  },
  {
   "cell_type": "code",
   "execution_count": null,
   "id": "55e05ff8",
   "metadata": {},
   "outputs": [],
   "source": []
  },
  {
   "cell_type": "code",
   "execution_count": null,
   "id": "b1bea73f",
   "metadata": {},
   "outputs": [],
   "source": []
  },
  {
   "cell_type": "markdown",
   "id": "6d499b7d",
   "metadata": {},
   "source": [
    "## Medium\n",
    "\n",
    "| 题号      | 标题                                    |\n",
    "| ------- | ------------------------------------- |\n",
    "| **49**  | Group Anagrams（典型词频分组题）               |\n",
    "| **56**  | Merge Intervals（真实数据常见）               |\n",
    "| **73**  | Set Matrix Zeroes（矩阵遍历逻辑）             |\n",
    "| **128** | Longest Consecutive Sequence（集合操作+排序） |\n",
    "| **200** | Number of Islands（2D矩阵DFS，偏工程题型）      |\n",
    "| **347** | Top K Frequent Elements（排序/频率统计）      |\n",
    "| **380** | Insert Delete GetRandom（设计数据结构，带哈希）   |\n",
    "\n"
   ]
  },
  {
   "cell_type": "code",
   "execution_count": null,
   "id": "3a86ce7b",
   "metadata": {},
   "outputs": [],
   "source": []
  },
  {
   "cell_type": "code",
   "execution_count": null,
   "id": "854ffd3b",
   "metadata": {},
   "outputs": [],
   "source": []
  },
  {
   "cell_type": "code",
   "execution_count": null,
   "id": "9ad06992",
   "metadata": {},
   "outputs": [],
   "source": []
  },
  {
   "cell_type": "code",
   "execution_count": null,
   "id": "6adb27bb",
   "metadata": {},
   "outputs": [],
   "source": []
  },
  {
   "cell_type": "code",
   "execution_count": null,
   "id": "e7de1558",
   "metadata": {},
   "outputs": [],
   "source": []
  },
  {
   "cell_type": "code",
   "execution_count": null,
   "id": "c8441721",
   "metadata": {},
   "outputs": [],
   "source": []
  },
  {
   "cell_type": "code",
   "execution_count": null,
   "id": "6ec6e119",
   "metadata": {},
   "outputs": [],
   "source": []
  },
  {
   "cell_type": "code",
   "execution_count": null,
   "id": "ed767e42",
   "metadata": {},
   "outputs": [],
   "source": []
  },
  {
   "cell_type": "code",
   "execution_count": null,
   "id": "79e641ab",
   "metadata": {},
   "outputs": [],
   "source": []
  },
  {
   "cell_type": "code",
   "execution_count": null,
   "id": "91f7cefe",
   "metadata": {},
   "outputs": [],
   "source": []
  },
  {
   "cell_type": "code",
   "execution_count": null,
   "id": "3c24e736",
   "metadata": {},
   "outputs": [],
   "source": []
  },
  {
   "cell_type": "code",
   "execution_count": null,
   "id": "990c5b80",
   "metadata": {},
   "outputs": [],
   "source": []
  },
  {
   "cell_type": "code",
   "execution_count": null,
   "id": "7610fd7e",
   "metadata": {},
   "outputs": [],
   "source": []
  },
  {
   "cell_type": "code",
   "execution_count": null,
   "id": "17a52f97",
   "metadata": {},
   "outputs": [],
   "source": []
  },
  {
   "cell_type": "code",
   "execution_count": null,
   "id": "33f30db5",
   "metadata": {},
   "outputs": [],
   "source": []
  },
  {
   "cell_type": "code",
   "execution_count": null,
   "id": "acd184be",
   "metadata": {},
   "outputs": [],
   "source": []
  },
  {
   "cell_type": "code",
   "execution_count": null,
   "id": "fdda35a7",
   "metadata": {},
   "outputs": [],
   "source": []
  },
  {
   "cell_type": "markdown",
   "id": "823c106f",
   "metadata": {},
   "source": [
    "## New heading"
   ]
  }
 ],
 "metadata": {
  "kernelspec": {
   "display_name": "Python 3",
   "language": "python",
   "name": "python3"
  },
  "language_info": {
   "codemirror_mode": {
    "name": "ipython",
    "version": 3
   },
   "file_extension": ".py",
   "mimetype": "text/x-python",
   "name": "python",
   "nbconvert_exporter": "python",
   "pygments_lexer": "ipython3",
   "version": "3.8.8"
  },
  "toc": {
   "base_numbering": 1,
   "nav_menu": {},
   "number_sections": true,
   "sideBar": true,
   "skip_h1_title": false,
   "title_cell": "Table of Contents",
   "title_sidebar": "Contents",
   "toc_cell": false,
   "toc_position": {},
   "toc_section_display": true,
   "toc_window_display": false
  },
  "varInspector": {
   "cols": {
    "lenName": 16,
    "lenType": 16,
    "lenVar": 40
   },
   "kernels_config": {
    "python": {
     "delete_cmd_postfix": "",
     "delete_cmd_prefix": "del ",
     "library": "var_list.py",
     "varRefreshCmd": "print(var_dic_list())"
    },
    "r": {
     "delete_cmd_postfix": ") ",
     "delete_cmd_prefix": "rm(",
     "library": "var_list.r",
     "varRefreshCmd": "cat(var_dic_list()) "
    }
   },
   "types_to_exclude": [
    "module",
    "function",
    "builtin_function_or_method",
    "instance",
    "_Feature"
   ],
   "window_display": false
  }
 },
 "nbformat": 4,
 "nbformat_minor": 5
}
